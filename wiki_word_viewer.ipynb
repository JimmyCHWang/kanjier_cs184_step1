{
 "cells": [
  {
   "cell_type": "code",
   "execution_count": 5,
   "metadata": {},
   "outputs": [],
   "source": [
    "import numpy as np\n",
    "import pandas as pd\n",
    "from bs4 import BeautifulSoup\n",
    "from requests import get\n",
    "from time import sleep\n",
    "from random import randint"
   ]
  },
  {
   "cell_type": "code",
   "execution_count": 6,
   "metadata": {},
   "outputs": [],
   "source": [
    "def offline_init(k = None):\n",
    "    if (k is None):\n",
    "        _df_ = pd.read_csv(\"wikiword_table.csv\")[[\"word\", \"reading\", \"meaning\"]]\n",
    "    else:\n",
    "        _df_ = pd.read_csv(\"wikiword_table_{}.csv\".format(k))[[\"word\", \"reading\", \"meaning\"]]  \n",
    "        \n",
    "    _sr_ = pd.read_csv(\"wikitionary_wordlist.csv\", header=None)[1]\n",
    "    return (_df_, _sr_)\n",
    "\n",
    "# x is a given kanji\n",
    "def offline_find_word(_sr_, x):\n",
    "    wlist = []\n",
    "    wordlist_sep_char = [list(x) for x in _sr_]\n",
    "    for i, li in enumerate(wordlist_sep_char):\n",
    "        if (x in li):\n",
    "            wlist.append(_sr_[i])\n",
    "    return wlist\n",
    "\n",
    "# xl is a list of words\n",
    "def offline_word_info(_df_, xl):\n",
    "    mask = np.array([False] * len(_df_[\"word\"]))\n",
    "    for i, x in enumerate(_df_['word']):\n",
    "        if x in xl:\n",
    "            mask[i]=True\n",
    "    return _df_[mask]\n"
   ]
  },
  {
   "cell_type": "code",
   "execution_count": 7,
   "metadata": {},
   "outputs": [
    {
     "data": {
      "text/plain": [
       "['影響', '撮影', '影', '投影', '面影', '射影', '幻影']"
      ]
     },
     "execution_count": 7,
     "metadata": {},
     "output_type": "execute_result"
    }
   ],
   "source": [
    "_df_, _sr_ = offline_init(6469) # Please leave this number right now\n",
    "_wl_ = offline_find_word(_sr_, \"影\") # Change the character to any Kanji you want\n",
    "_wl_"
   ]
  },
  {
   "cell_type": "code",
   "execution_count": 8,
   "metadata": {},
   "outputs": [
    {
     "data": {
      "text/html": [
       "<div>\n",
       "<style scoped>\n",
       "    .dataframe tbody tr th:only-of-type {\n",
       "        vertical-align: middle;\n",
       "    }\n",
       "\n",
       "    .dataframe tbody tr th {\n",
       "        vertical-align: top;\n",
       "    }\n",
       "\n",
       "    .dataframe thead th {\n",
       "        text-align: right;\n",
       "    }\n",
       "</style>\n",
       "<table border=\"1\" class=\"dataframe\">\n",
       "  <thead>\n",
       "    <tr style=\"text-align: right;\">\n",
       "      <th></th>\n",
       "      <th>word</th>\n",
       "      <th>reading</th>\n",
       "      <th>meaning</th>\n",
       "    </tr>\n",
       "  </thead>\n",
       "  <tbody>\n",
       "    <tr>\n",
       "      <td>395</td>\n",
       "      <td>影響</td>\n",
       "      <td>えいきょう</td>\n",
       "      <td>1. influence; effect$2. to influence; to affec...</td>\n",
       "    </tr>\n",
       "    <tr>\n",
       "      <td>1080</td>\n",
       "      <td>撮影</td>\n",
       "      <td>さつえい</td>\n",
       "      <td>1. photography (still or motion); photographin...</td>\n",
       "    </tr>\n",
       "    <tr>\n",
       "      <td>3904</td>\n",
       "      <td>影</td>\n",
       "      <td>かげ</td>\n",
       "      <td>1. shadow; silhouette; figure; shape$2. reflec...</td>\n",
       "    </tr>\n",
       "    <tr>\n",
       "      <td>3905</td>\n",
       "      <td>影</td>\n",
       "      <td>かげ</td>\n",
       "      <td>1. Kage$</td>\n",
       "    </tr>\n",
       "  </tbody>\n",
       "</table>\n",
       "</div>"
      ],
      "text/plain": [
       "     word reading                                            meaning\n",
       "395    影響   えいきょう  1. influence; effect$2. to influence; to affec...\n",
       "1080   撮影    さつえい  1. photography (still or motion); photographin...\n",
       "3904    影      かげ  1. shadow; silhouette; figure; shape$2. reflec...\n",
       "3905    影      かげ                                           1. Kage$"
      ]
     },
     "execution_count": 8,
     "metadata": {},
     "output_type": "execute_result"
    }
   ],
   "source": [
    "offline_word_info(_df_, _wl_)\n",
    "# If some words are not shown here, it is because they do not have a jisho dictionary webpage, or they havn't been not scraped yet."
   ]
  }
 ],
 "metadata": {
  "kernelspec": {
   "display_name": "Python 3",
   "language": "python",
   "name": "python3"
  },
  "language_info": {
   "codemirror_mode": {
    "name": "ipython",
    "version": 3
   },
   "file_extension": ".py",
   "mimetype": "text/x-python",
   "name": "python",
   "nbconvert_exporter": "python",
   "pygments_lexer": "ipython3",
   "version": "3.7.4"
  }
 },
 "nbformat": 4,
 "nbformat_minor": 2
}
